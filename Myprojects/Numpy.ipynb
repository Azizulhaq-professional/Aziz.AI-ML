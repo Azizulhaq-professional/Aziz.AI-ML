{
 "cells": [
  {
   "cell_type": "markdown",
   "id": "fd6c74db",
   "metadata": {},
   "source": [
    "### 📘 Project Assignment: Analyzing Student Performance Using NumPy\n",
    "#### 🎯 Objective:\n",
    "##### Use NumPy to analyze and manipulate data for 10 students' performance in three subjects (Math, Science, English). You'll perform array creation, reshaping, indexing, slicing, statistical operations, broadcasting, boolean filtering, and more."
   ]
  },
  {
   "cell_type": "markdown",
   "id": "2841f692",
   "metadata": {},
   "source": [
    "#### Step-by-Step NumPy Code and Explanation:\n"
   ]
  },
  {
   "cell_type": "code",
   "execution_count": 1,
   "id": "5d4efa9e",
   "metadata": {},
   "outputs": [],
   "source": [
    "import numpy as np\n",
    "\n",
    "# 1. Create the data array (10 students × 3 subjects)\n",
    "data = np.array([\n",
    "    [85, 78, 92],\n",
    "    [76, 85, 88],\n",
    "    [90, 91, 85],\n",
    "    [65, 72, 78],\n",
    "    [88, 89, 94],\n",
    "    [70, 68, 72],\n",
    "    [95, 94, 90],\n",
    "    [60, 64, 67],\n",
    "    [82, 80, 85],\n",
    "    [77, 75, 70]\n",
    "])"
   ]
  },
  {
   "cell_type": "code",
   "execution_count": 2,
   "id": "671377c1",
   "metadata": {},
   "outputs": [
    {
     "name": "stdout",
     "output_type": "stream",
     "text": [
      "[[85 78 92]\n",
      " [76 85 88]\n",
      " [90 91 85]\n",
      " [65 72 78]\n",
      " [88 89 94]\n",
      " [70 68 72]\n",
      " [95 94 90]\n",
      " [60 64 67]\n",
      " [82 80 85]\n",
      " [77 75 70]]\n"
     ]
    }
   ],
   "source": [
    "print(data)"
   ]
  },
  {
   "cell_type": "code",
   "execution_count": 3,
   "id": "991394cd",
   "metadata": {},
   "outputs": [
    {
     "name": "stdout",
     "output_type": "stream",
     "text": [
      "Shape: (10, 3)\n",
      "Size: 30\n",
      "Datatype: int64\n"
     ]
    }
   ],
   "source": [
    "# Array Properties\n",
    "print(\"Shape:\", data.shape)       # (10, 3)\n",
    "print(\"Size:\", data.size)         # 30 (10x3)\n",
    "print(\"Datatype:\", data.dtype)    # int32 (usually)"
   ]
  },
  {
   "cell_type": "code",
   "execution_count": 4,
   "id": "58d87f15",
   "metadata": {},
   "outputs": [
    {
     "name": "stdout",
     "output_type": "stream",
     "text": [
      "Marks of Student 1: [85 78 92]\n",
      "All Math marks: [85 76 90 65 88 70 95 60 82 77]\n",
      "English marks of last 3 students: [67 85 70]\n"
     ]
    }
   ],
   "source": [
    "# Accessing and Slicing Data\n",
    "print(\"Marks of Student 1:\", data[0])           # First student's marks\n",
    "print(\"All Math marks:\", data[:, 0])            # First column\n",
    "print(\"English marks of last 3 students:\", data[-3:, 2])  # English column, last 3 rows"
   ]
  },
  {
   "cell_type": "code",
   "execution_count": 5,
   "id": "a3cef043",
   "metadata": {},
   "outputs": [],
   "source": [
    "# Modify an Element (Indexing)\n",
    "data[0, 1] = 80  # Change Student 1's Science marks to 80"
   ]
  },
  {
   "cell_type": "code",
   "execution_count": 6,
   "id": "b0ef4f02",
   "metadata": {},
   "outputs": [
    {
     "name": "stdout",
     "output_type": "stream",
     "text": [
      "[[85 80 92]\n",
      " [76 85 88]\n",
      " [90 91 85]\n",
      " [65 72 78]\n",
      " [88 89 94]\n",
      " [70 68 72]\n",
      " [95 94 90]\n",
      " [60 64 67]\n",
      " [82 80 85]\n",
      " [77 75 70]]\n"
     ]
    }
   ],
   "source": [
    "print(data)"
   ]
  },
  {
   "cell_type": "code",
   "execution_count": 7,
   "id": "a5d08be3",
   "metadata": {},
   "outputs": [
    {
     "name": "stdout",
     "output_type": "stream",
     "text": [
      "Mean marks per subject: [78.8 79.8 82.1]\n",
      "Median: [79.5 80.  85. ]\n",
      "Standard deviation: [10.74057727  9.54777461  9.20271699]\n",
      "Max per subject: [95 94 94]\n",
      "Min per subject: [60 64 67]\n"
     ]
    }
   ],
   "source": [
    "# Statistical Analysis\n",
    "print(\"Mean marks per subject:\", np.mean(data, axis=0))\n",
    "print(\"Median:\", np.median(data, axis=0))\n",
    "print(\"Standard deviation:\", np.std(data, axis=0))\n",
    "print(\"Max per subject:\", np.max(data, axis=0))\n",
    "print(\"Min per subject:\", np.min(data, axis=0))"
   ]
  },
  {
   "cell_type": "code",
   "execution_count": 8,
   "id": "33c37394",
   "metadata": {},
   "outputs": [],
   "source": [
    "# Total and Average per Student\n",
    "total_per_student = np.sum(data, axis=1)\n",
    "avg_per_student = np.mean(data, axis=1)"
   ]
  },
  {
   "cell_type": "code",
   "execution_count": 10,
   "id": "4631866e",
   "metadata": {},
   "outputs": [
    {
     "name": "stdout",
     "output_type": "stream",
     "text": [
      "[257 249 266 215 271 210 279 191 247 222]\n",
      "[85.66666667 83.         88.66666667 71.66666667 90.33333333 70.\n",
      " 93.         63.66666667 82.33333333 74.        ]\n"
     ]
    }
   ],
   "source": [
    "print(total_per_student)\n",
    "print(avg_per_student)"
   ]
  },
  {
   "cell_type": "code",
   "execution_count": 11,
   "id": "cee1702a",
   "metadata": {},
   "outputs": [
    {
     "name": "stdout",
     "output_type": "stream",
     "text": [
      "High Achievers:\n",
      " [[85 80 92]\n",
      " [90 91 85]\n",
      " [88 89 94]\n",
      " [95 94 90]]\n"
     ]
    }
   ],
   "source": [
    "# Boolean Indexing\n",
    "# Students with average > 85\n",
    "high_achievers = data[avg_per_student > 85]\n",
    "print(\"High Achievers:\\n\", high_achievers)"
   ]
  },
  {
   "cell_type": "code",
   "execution_count": 12,
   "id": "cc9fd520",
   "metadata": {},
   "outputs": [
    {
     "name": "stdout",
     "output_type": "stream",
     "text": [
      "[[87 81 92]\n",
      " [78 86 88]\n",
      " [92 92 85]\n",
      " [67 73 78]\n",
      " [90 90 94]\n",
      " [72 69 72]\n",
      " [97 95 90]\n",
      " [62 65 67]\n",
      " [84 81 85]\n",
      " [79 76 70]]\n"
     ]
    }
   ],
   "source": [
    "# Broadcasting: Add Bonus Marks\n",
    "bonus = np.array([2, 1, 0])  # Bonus for Math, Science, English\n",
    "data_bonus = data + bonus\n",
    "print(data_bonus)"
   ]
  },
  {
   "cell_type": "code",
   "execution_count": 13,
   "id": "0f5e1793",
   "metadata": {},
   "outputs": [
    {
     "name": "stdout",
     "output_type": "stream",
     "text": [
      "[85 80 92 76 85 88 90 91 85 65 72 78 88 89 94 70 68 72 95 94 90 60 64 67\n",
      " 82 80 85 77 75 70]\n",
      "[[85 80 92 76 85 88]\n",
      " [90 91 85 65 72 78]\n",
      " [88 89 94 70 68 72]\n",
      " [95 94 90 60 64 67]\n",
      " [82 80 85 77 75 70]]\n"
     ]
    }
   ],
   "source": [
    "# Reshape and Flatten\n",
    "flattened = data.flatten()        # 1D array\n",
    "reshaped = flattened.reshape(5, 6)  # Reshape into 5x6\n",
    "print(flattened)\n",
    "print(reshaped)"
   ]
  },
  {
   "cell_type": "code",
   "execution_count": 14,
   "id": "dc223db8",
   "metadata": {},
   "outputs": [
    {
     "name": "stdout",
     "output_type": "stream",
     "text": [
      "<built-in function sorted>\n"
     ]
    }
   ],
   "source": [
    "# Sorting\n",
    "sorted_data = np.sort(data, axis=1)  # Sort each student’s marks\n",
    "print(sorted)"
   ]
  },
  {
   "cell_type": "code",
   "execution_count": 15,
   "id": "a8b340f0",
   "metadata": {},
   "outputs": [
    {
     "name": "stdout",
     "output_type": "stream",
     "text": [
      "Unique marks: [60 64 65 67 68 70 72 75 76 77 78 80 82 85 88 89 90 91 92 94 95]\n"
     ]
    }
   ],
   "source": [
    "# Unique and Count\n",
    "print(\"Unique marks:\", np.unique(data))"
   ]
  },
  {
   "cell_type": "code",
   "execution_count": 16,
   "id": "802eb694",
   "metadata": {},
   "outputs": [
    {
     "name": "stdout",
     "output_type": "stream",
     "text": [
      "[[ 85  80  92 257]\n",
      " [ 76  85  88 249]\n",
      " [ 90  91  85 266]\n",
      " [ 65  72  78 215]\n",
      " [ 88  89  94 271]\n",
      " [ 70  68  72 210]\n",
      " [ 95  94  90 279]\n",
      " [ 60  64  67 191]\n",
      " [ 82  80  85 247]\n",
      " [ 77  75  70 222]]\n"
     ]
    }
   ],
   "source": [
    "# Stacking Arrays\n",
    "# Adding a new column: Total marks\n",
    "data_with_total = np.hstack((data, total_per_student.reshape(-1, 1)))\n",
    "print(data_with_total)"
   ]
  },
  {
   "cell_type": "markdown",
   "id": "274002bd",
   "metadata": {},
   "source": [
    "### Assignment Tasks (For Practice):\n",
    "- Identify the top 3 students based on total marks.\n",
    "\n",
    "- Calculate the subject in which students scored the lowest average.\n",
    "\n",
    "- Create a curve adjustment (e.g., add 5 marks to all English scores).\n",
    "\n",
    "- Find students who failed in any subject (assume < 70 is fail).\n",
    "\n",
    "- Visualize the Math scores using matplotlib (optional extra)."
   ]
  }
 ],
 "metadata": {
  "kernelspec": {
   "display_name": "Python 3",
   "language": "python",
   "name": "python3"
  },
  "language_info": {
   "codemirror_mode": {
    "name": "ipython",
    "version": 3
   },
   "file_extension": ".py",
   "mimetype": "text/x-python",
   "name": "python",
   "nbconvert_exporter": "python",
   "pygments_lexer": "ipython3",
   "version": "3.13.1"
  }
 },
 "nbformat": 4,
 "nbformat_minor": 5
}
