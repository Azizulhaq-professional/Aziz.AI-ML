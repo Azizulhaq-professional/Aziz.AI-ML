{
 "cells": [
  {
   "cell_type": "markdown",
   "id": "71d4ffc8",
   "metadata": {},
   "source": [
    "### Introduction to SciPy\n",
    "#### SciPy (Scientific Python) is an open-source library used for scientific and technical computing. It builds on NumPy and provides efficient numerical routines for optimization, integration, interpolation, linear algebra, statistics, and more.\n",
    "##### Key Modules in SciPy:\n",
    "- scipy.optimize – Optimization algorithms\n",
    "\n",
    "- scipy.integrate – Integration functions\n",
    "\n",
    "- scipy.interpolate – Interpolation tools\n",
    "\n",
    "- scipy.linalg – Linear algebra operations\n",
    "\n",
    "- scipy.stats – Statistical functions\n",
    "\n",
    "- scipy.signal – Signal processing\n",
    "\n",
    "- scipy.fft – Fast Fourier Transform"
   ]
  },
  {
   "cell_type": "markdown",
   "id": "31672f0b",
   "metadata": {},
   "source": [
    "### Project Tasks\n",
    "#### Task 1: Solving Linear Equations (scipy.linalg)\n",
    "#### Objective: Solve a system of linear equations using scipy.linalg.solve.\n",
    "#### Code with Explanation"
   ]
  },
  {
   "cell_type": "code",
   "execution_count": 1,
   "id": "cbb0b5c4",
   "metadata": {},
   "outputs": [
    {
     "name": "stdout",
     "output_type": "stream",
     "text": [
      "Solution (x, y): [1.  2.5]\n"
     ]
    }
   ],
   "source": [
    "# Import required libraries  \n",
    "import numpy as np  \n",
    "from scipy import linalg  \n",
    "\n",
    "# Define coefficient matrix (A) and constant terms (B)  \n",
    "A = np.array([[3, 2], [1, -4]])  # 3x + 2y = 8  \n",
    "B = np.array([8, -9])             # x - 4y = -9  \n",
    "\n",
    "# Solve the system of equations  \n",
    "solution = linalg.solve(A, B)  \n",
    "\n",
    "# Print the solution  \n",
    "print(\"Solution (x, y):\", solution)  "
   ]
  },
  {
   "cell_type": "markdown",
   "id": "ad689e87",
   "metadata": {},
   "source": [
    "### Explanation:\n",
    "- numpy is used for array operations.\n",
    "\n",
    "- scipy.linalg.solve solves AX = B for X.\n",
    "\n",
    "- The solution [x, y] is printed."
   ]
  },
  {
   "cell_type": "markdown",
   "id": "bca5ffa5",
   "metadata": {},
   "source": [
    "### Task 2: Numerical Integration (scipy.integrate)\n",
    "#### Objective: Compute the definite integral of a function using scipy.integrate.quad.\n",
    "#### Code with Explanation"
   ]
  },
  {
   "cell_type": "code",
   "execution_count": 2,
   "id": "95f37d33",
   "metadata": {},
   "outputs": [
    {
     "name": "stdout",
     "output_type": "stream",
     "text": [
      "Integral of sin(x) from 0 to π: 2.0\n",
      "Estimated error: 2.220446049250313e-14\n"
     ]
    }
   ],
   "source": [
    "from scipy.integrate import quad  \n",
    "import numpy as np  \n",
    "\n",
    "# Define the function to integrate  \n",
    "def f(x):  \n",
    "    return np.sin(x)  # ∫ sin(x) dx from 0 to π  \n",
    "\n",
    "# Compute the integral  \n",
    "result, error = quad(f, 0, np.pi)  \n",
    "\n",
    "# Print the result  \n",
    "print(\"Integral of sin(x) from 0 to π:\", result)  \n",
    "print(\"Estimated error:\", error)  "
   ]
  },
  {
   "cell_type": "markdown",
   "id": "f6b87068",
   "metadata": {},
   "source": [
    "### Explanation:\n",
    "- quad performs numerical integration.\n",
    "\n",
    "- The function f(x) = sin(x) is integrated from 0 to π.\n",
    "\n",
    "- The result (2.0) and error estimate are printed."
   ]
  },
  {
   "cell_type": "markdown",
   "id": "b831c9be",
   "metadata": {},
   "source": [
    "### Task 3: Optimization (scipy.optimize)\n",
    "#### Objective: Find the minimum of a function using scipy.optimize.minimize.\n",
    "#### Code with Explanation"
   ]
  },
  {
   "cell_type": "code",
   "execution_count": 3,
   "id": "0b1e63d6",
   "metadata": {},
   "outputs": [
    {
     "name": "stdout",
     "output_type": "stream",
     "text": [
      "Optimal solution: [1.99999999 2.99999999]\n",
      "Minimum value: 1.84598775337616e-16\n"
     ]
    }
   ],
   "source": [
    "from scipy.optimize import minimize  \n",
    "\n",
    "# Define the function to minimize  \n",
    "def f(x):  \n",
    "    return (x[0] - 2)**2 + (x[1] - 3)**2  # (x-2)² + (y-3)²  \n",
    "\n",
    "# Initial guess  \n",
    "initial_guess = [0, 0]  \n",
    "\n",
    "# Minimize the function  \n",
    "result = minimize(f, initial_guess)  \n",
    "\n",
    "# Print the result  \n",
    "print(\"Optimal solution:\", result.x)  \n",
    "print(\"Minimum value:\", result.fun)  "
   ]
  },
  {
   "cell_type": "markdown",
   "id": "ed21087f",
   "metadata": {},
   "source": [
    "### Explanation:\n",
    "- minimize finds the minimum of a scalar function.\n",
    "\n",
    "- The function f(x,y) = (x-2)² + (y-3)² has a minimum at (2, 3).\n",
    "\n",
    "- The optimizer returns the optimal point and function value."
   ]
  },
  {
   "cell_type": "markdown",
   "id": "17fc9eb3",
   "metadata": {},
   "source": [
    "### Task 4: Interpolation (scipy.interpolate)\n",
    "- Objective: Interpolate missing data points using scipy.interpolate.interp1d.\n",
    "- Code with Explanation"
   ]
  },
  {
   "cell_type": "code",
   "execution_count": 4,
   "id": "16ced625",
   "metadata": {},
   "outputs": [
    {
     "name": "stdout",
     "output_type": "stream",
     "text": [
      "Interpolated values: [0.         0.88888889 1.77777778 2.33333333 2.77777778 3.44444444\n",
      " 4.33333333 5.33333333 6.66666667 8.        ]\n"
     ]
    }
   ],
   "source": [
    "from scipy.interpolate import interp1d  \n",
    "import numpy as np  \n",
    "\n",
    "# Sample data points  \n",
    "x = np.array([0, 1, 2, 3, 4])  \n",
    "y = np.array([0, 2, 3, 5, 8])  \n",
    "\n",
    "# Create interpolation function  \n",
    "f = interp1d(x, y, kind='linear')  \n",
    "\n",
    "# New x values for interpolation  \n",
    "x_new = np.linspace(0, 4, 10)  \n",
    "\n",
    "# Interpolated y values  \n",
    "y_new = f(x_new)  \n",
    "\n",
    "# Print interpolated values  \n",
    "print(\"Interpolated values:\", y_new)  "
   ]
  },
  {
   "cell_type": "markdown",
   "id": "d305ec06",
   "metadata": {},
   "source": [
    "### Explanation:\n",
    "- interp1d creates an interpolation function.\n",
    "\n",
    "- kind='linear' specifies linear interpolation.\n",
    "\n",
    "- New x values are generated, and corresponding y values are estimated."
   ]
  },
  {
   "cell_type": "markdown",
   "id": "e7de67ed",
   "metadata": {},
   "source": [
    "### Task 5: Statistical Analysis (scipy.stats)\n",
    "- Objective: Compute mean, standard deviation, and probability using scipy.stats.\n",
    "- Code with Explanation"
   ]
  },
  {
   "cell_type": "code",
   "execution_count": 5,
   "id": "7230b219",
   "metadata": {},
   "outputs": [
    {
     "name": "stdout",
     "output_type": "stream",
     "text": [
      "Mean: 15.0\n",
      "Standard Deviation: 7.0710678118654755\n",
      "PDF at x=10: 0.043939128946772245\n"
     ]
    }
   ],
   "source": [
    "from scipy import stats  \n",
    "import numpy as np  \n",
    "\n",
    "# Sample data  \n",
    "data = np.array([5, 10, 15, 20, 25])  \n",
    "\n",
    "# Compute mean and standard deviation  \n",
    "mean = np.mean(data)  \n",
    "std_dev = np.std(data)  \n",
    "\n",
    "# Probability density function (PDF) of normal distribution  \n",
    "pdf = stats.norm.pdf(10, loc=mean, scale=std_dev)  \n",
    "\n",
    "# Print results  \n",
    "print(\"Mean:\", mean)  \n",
    "print(\"Standard Deviation:\", std_dev)  \n",
    "print(\"PDF at x=10:\", pdf)  "
   ]
  },
  {
   "cell_type": "markdown",
   "id": "8071d521",
   "metadata": {},
   "source": [
    "### Explanation:\n",
    "- stats.norm.pdf computes the probability density function.\n",
    "\n",
    "- loc is the mean, and scale is the standard deviation.\n",
    "\n",
    "- The PDF at x=10 is calculated."
   ]
  }
 ],
 "metadata": {
  "kernelspec": {
   "display_name": "Python 3",
   "language": "python",
   "name": "python3"
  },
  "language_info": {
   "codemirror_mode": {
    "name": "ipython",
    "version": 3
   },
   "file_extension": ".py",
   "mimetype": "text/x-python",
   "name": "python",
   "nbconvert_exporter": "python",
   "pygments_lexer": "ipython3",
   "version": "3.13.1"
  }
 },
 "nbformat": 4,
 "nbformat_minor": 5
}
