{
 "cells": [
  {
   "cell_type": "markdown",
   "metadata": {},
   "source": [
    "### 📊 Project: Analyzing Sales Data with Pandas"
   ]
  },
  {
   "cell_type": "code",
   "execution_count": 1,
   "metadata": {},
   "outputs": [],
   "source": [
    "# 1. Import pandas\n",
    "import pandas as pd"
   ]
  },
  {
   "cell_type": "code",
   "execution_count": 4,
   "metadata": {},
   "outputs": [],
   "source": [
    "# 2. Load the CSV file into a DataFrame\n",
    "df = pd.read_csv(r'C:\\Users\\DELL XPS\\Desktop\\AI & ML\\Pandas\\sales_data.csv')"
   ]
  },
  {
   "cell_type": "code",
   "execution_count": 7,
   "metadata": {},
   "outputs": [
    {
     "name": "stdout",
     "output_type": "stream",
     "text": [
      "   OrderID Product   Category  Quantity  Price       Date Region\n",
      "0     1001  Laptop       Tech         2   1200  1/12/2024   West\n",
      "1     1002   Chair  Furniture         5     85  1/14/2024   East\n",
      "2     1003   Phone       Tech         1    999  1/15/2024  South\n"
     ]
    }
   ],
   "source": [
    "print(df)"
   ]
  },
  {
   "cell_type": "code",
   "execution_count": 8,
   "metadata": {},
   "outputs": [
    {
     "name": "stdout",
     "output_type": "stream",
     "text": [
      "   OrderID Product   Category  Quantity  Price       Date Region\n",
      "0     1001  Laptop       Tech         2   1200  1/12/2024   West\n",
      "1     1002   Chair  Furniture         5     85  1/14/2024   East\n",
      "2     1003   Phone       Tech         1    999  1/15/2024  South\n"
     ]
    }
   ],
   "source": [
    "# 3. Display first 5 rows\n",
    "print(df.head())"
   ]
  },
  {
   "cell_type": "code",
   "execution_count": 9,
   "metadata": {},
   "outputs": [
    {
     "name": "stdout",
     "output_type": "stream",
     "text": [
      "<class 'pandas.core.frame.DataFrame'>\n",
      "RangeIndex: 3 entries, 0 to 2\n",
      "Data columns (total 7 columns):\n",
      " #   Column    Non-Null Count  Dtype \n",
      "---  ------    --------------  ----- \n",
      " 0   OrderID   3 non-null      int64 \n",
      " 1   Product   3 non-null      object\n",
      " 2   Category  3 non-null      object\n",
      " 3   Quantity  3 non-null      int64 \n",
      " 4   Price     3 non-null      int64 \n",
      " 5   Date      3 non-null      object\n",
      " 6   Region    3 non-null      object\n",
      "dtypes: int64(3), object(4)\n",
      "memory usage: 300.0+ bytes\n",
      "None\n"
     ]
    }
   ],
   "source": [
    "# 4. Check data types and info\n",
    "print(df.info())"
   ]
  },
  {
   "cell_type": "code",
   "execution_count": 10,
   "metadata": {},
   "outputs": [
    {
     "name": "stdout",
     "output_type": "stream",
     "text": [
      "OrderID     0\n",
      "Product     0\n",
      "Category    0\n",
      "Quantity    0\n",
      "Price       0\n",
      "Date        0\n",
      "Region      0\n",
      "dtype: int64\n"
     ]
    }
   ],
   "source": [
    "# 5. Check for missing values\n",
    "print(df.isnull().sum())"
   ]
  },
  {
   "cell_type": "code",
   "execution_count": 11,
   "metadata": {},
   "outputs": [
    {
     "name": "stderr",
     "output_type": "stream",
     "text": [
      "C:\\Users\\DELL XPS\\AppData\\Local\\Temp\\ipykernel_12128\\2441277152.py:2: FutureWarning: A value is trying to be set on a copy of a DataFrame or Series through chained assignment using an inplace method.\n",
      "The behavior will change in pandas 3.0. This inplace method will never work because the intermediate object on which we are setting values always behaves as a copy.\n",
      "\n",
      "For example, when doing 'df[col].method(value, inplace=True)', try using 'df.method({col: value}, inplace=True)' or df[col] = df[col].method(value) instead, to perform the operation inplace on the original object.\n",
      "\n",
      "\n",
      "  df['Quantity'].fillna(0, inplace=True)\n"
     ]
    }
   ],
   "source": [
    "# 6. Fill missing values (example: Quantity)\n",
    "df['Quantity'].fillna(0, inplace=True)"
   ]
  },
  {
   "cell_type": "code",
   "execution_count": 12,
   "metadata": {},
   "outputs": [],
   "source": [
    "# 7. Create a new column: Total = Quantity × Price\n",
    "df['Total'] = df['Quantity'] * df['Price']"
   ]
  },
  {
   "cell_type": "code",
   "execution_count": 13,
   "metadata": {},
   "outputs": [],
   "source": [
    "# 8. Convert Date column to datetime type\n",
    "df['Date'] = pd.to_datetime(df['Date'])"
   ]
  },
  {
   "cell_type": "code",
   "execution_count": 14,
   "metadata": {},
   "outputs": [],
   "source": [
    "# 9. Filter data for only 'Tech' category\n",
    "tech_sales = df[df['Category'] == 'Tech']"
   ]
  },
  {
   "cell_type": "code",
   "execution_count": 15,
   "metadata": {},
   "outputs": [
    {
     "name": "stdout",
     "output_type": "stream",
     "text": [
      "   OrderID Product Category  Quantity  Price       Date Region  Total\n",
      "0     1001  Laptop     Tech         2   1200 2024-01-12   West   2400\n",
      "2     1003   Phone     Tech         1    999 2024-01-15  South    999\n"
     ]
    }
   ],
   "source": [
    "print(tech_sales)"
   ]
  },
  {
   "cell_type": "code",
   "execution_count": 16,
   "metadata": {},
   "outputs": [],
   "source": [
    "# 10. Group by Region and calculate total sales\n",
    "region_sales = df.groupby('Region')['Total'].sum().reset_index()"
   ]
  },
  {
   "cell_type": "code",
   "execution_count": 17,
   "metadata": {},
   "outputs": [],
   "source": [
    "# 11. Sort data by Total sales in descending order\n",
    "sorted_sales = region_sales.sort_values(by='Total', ascending=False)"
   ]
  },
  {
   "cell_type": "code",
   "execution_count": 18,
   "metadata": {},
   "outputs": [
    {
     "name": "stdout",
     "output_type": "stream",
     "text": [
      "  Region  Total\n",
      "2   West   2400\n",
      "1  South    999\n",
      "0   East    425\n"
     ]
    }
   ],
   "source": [
    "print(sorted_sales)"
   ]
  },
  {
   "cell_type": "code",
   "execution_count": 19,
   "metadata": {},
   "outputs": [],
   "source": [
    "# 12. Rename columns for clarity\n",
    "sorted_sales.rename(columns={'Total': 'Total Sales'}, inplace=True)"
   ]
  },
  {
   "cell_type": "code",
   "execution_count": 20,
   "metadata": {},
   "outputs": [
    {
     "name": "stdout",
     "output_type": "stream",
     "text": [
      "<bound method DataFrame.rename of   Region  Total Sales\n",
      "2   West         2400\n",
      "1  South          999\n",
      "0   East          425>\n"
     ]
    }
   ],
   "source": [
    "print(sorted_sales.rename)"
   ]
  },
  {
   "cell_type": "code",
   "execution_count": 21,
   "metadata": {},
   "outputs": [],
   "source": [
    "# 13. Add a column for Month\n",
    "df['Month'] = df['Date'].dt.month"
   ]
  },
  {
   "cell_type": "code",
   "execution_count": 22,
   "metadata": {},
   "outputs": [],
   "source": [
    "# 14. Pivot table: Monthly sales by Category\n",
    "pivot = pd.pivot_table(df, values='Total', index='Month', columns='Category', aggfunc='sum')"
   ]
  },
  {
   "cell_type": "code",
   "execution_count": 23,
   "metadata": {},
   "outputs": [
    {
     "name": "stdout",
     "output_type": "stream",
     "text": [
      "Category  Furniture  Tech\n",
      "Month                    \n",
      "1               425  3399\n"
     ]
    }
   ],
   "source": [
    "print(pivot)"
   ]
  },
  {
   "cell_type": "code",
   "execution_count": 24,
   "metadata": {},
   "outputs": [
    {
     "name": "stdout",
     "output_type": "stream",
     "text": [
      "<bound method NDFrame.to_csv of   Region  Total Sales\n",
      "2   West         2400\n",
      "1  South          999\n",
      "0   East          425>\n"
     ]
    }
   ],
   "source": [
    "# 15. Export results to CSV\n",
    "sorted_sales.to_csv('region_sales_summary.csv', index=False)\n",
    "print(sorted_sales.to_csv)"
   ]
  },
  {
   "cell_type": "code",
   "execution_count": 25,
   "metadata": {},
   "outputs": [
    {
     "name": "stdout",
     "output_type": "stream",
     "text": [
      "Category  Furniture  Tech\n",
      "Month                    \n",
      "1               425  3399\n"
     ]
    }
   ],
   "source": [
    "print(pivot)"
   ]
  },
  {
   "cell_type": "markdown",
   "metadata": {},
   "source": [
    "<h5>🧠 Line-by-Line Explanation</br>\n",
    "Line  Explanation</br>\n",
    "1\tImport the pandas library for data manipulation</br>\n",
    "2\tLoad a CSV file into a DataFrame object (df)</br>\n",
    "3\tPrint the first 5 rows to preview data</br>\n",
    "4\tShow data types and column info</br>\n",
    "5\tCount null values in each column</br>\n",
    "6\tFill any missing quantity values with 0</br>\n",
    "7\tCalculate total sales for each order</br>\n",
    "8\tConvert the 'Date' column into a datetime object</br>\n",
    "9\tFilter only rows where category is 'Tech'</br>\n",
    "10\tGroup data by region and sum total sales\n",
    "11\tSort regions based on total sales in descending order</br>\n",
    "12\tRename the column Total to Total Sales</br>\n",
    "13\tExtract the month from the 'Date' column</br>\n",
    "14\tCreate a pivot table showing monthly sales per category</br>\n",
    "15\tSave the summary data to a new CSV file</br>\n",
    "16\tPrint the pivot table to view in the console</h5>"
   ]
  }
 ],
 "metadata": {
  "kernelspec": {
   "display_name": "Python 3",
   "language": "python",
   "name": "python3"
  },
  "language_info": {
   "codemirror_mode": {
    "name": "ipython",
    "version": 3
   },
   "file_extension": ".py",
   "mimetype": "text/x-python",
   "name": "python",
   "nbconvert_exporter": "python",
   "pygments_lexer": "ipython3",
   "version": "3.13.1"
  }
 },
 "nbformat": 4,
 "nbformat_minor": 2
}
